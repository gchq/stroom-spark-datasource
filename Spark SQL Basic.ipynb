{
 "cells": [
  {
   "cell_type": "markdown",
   "metadata": {},
   "source": [
    "# Basic Spark SQL Usage\n",
    "\n",
    "### Example of using Spark SQL with Stroom DataFrame"
   ]
  },
  {
   "cell_type": "code",
   "execution_count": 44,
   "metadata": {},
   "outputs": [],
   "source": [
    "from pyspark.sql.types import *\n",
    "from pyspark.sql.functions import from_json, col\n",
    "from IPython.display import display\n",
    "from pyspark.sql import SparkSession"
   ]
  },
  {
   "cell_type": "markdown",
   "metadata": {},
   "source": [
    "#### Create a schema using XPaths\n",
    "\n",
    "N.B. XPath @* is used to extract both StreamId and EventId from the Event, and placed into a single field.\n",
    "This field has unique values, handy for working with SQL."
   ]
  },
  {
   "cell_type": "code",
   "execution_count": 45,
   "metadata": {},
   "outputs": [],
   "source": [
    "mySchema = StructType([StructField(\"user\", StringType(), True, \n",
    "                                   metadata={\"xpath\": \"EventSource/User/Id\"}), \n",
    "                       StructField(\"operation\", StringType(), True, \n",
    "                                   metadata={\"xpath\": \"EventDetail/TypeId\"}),\n",
    "                     StructField(\"eventid\", StringType(), False,\n",
    "                                metadata={\"xpath\": \"@*\"})])"
   ]
  },
  {
   "cell_type": "code",
   "execution_count": 46,
   "metadata": {},
   "outputs": [],
   "source": [
    "stroomDf = spark.read.format('stroom.spark.datasource.StroomDataSource').load(\n",
    "        token='not required',host='localhost:8080',protocol='http',\n",
    "        uri='api/stroom-index/v2',\n",
    "        index='57a35b9a-083c-4a93-a813-fc3ddfe1ff44',pipeline='bb25824e-6369-464a-81e1-876ffe3b95a0',\n",
    "        schema=mySchema).select('eventid','user','operation','idxUserId')"
   ]
  },
  {
   "cell_type": "code",
   "execution_count": null,
   "metadata": {},
   "outputs": [],
   "source": [
    "display(stroomDf.limit(5).toPandas().head())"
   ]
  },
  {
   "cell_type": "markdown",
   "metadata": {},
   "source": [
    "#### Using Spark SQL\n",
    "\n",
    "In order to start actually writing SQL queries, it is necessary to create a temporary view onto the \n",
    "Stroom DataFrame created above.\n",
    "\n",
    "Results are returned as DataFrames themselves, making further operations possible."
   ]
  },
  {
   "cell_type": "code",
   "execution_count": null,
   "metadata": {},
   "outputs": [],
   "source": [
    "stroomDf.createOrReplaceTempView(\"userops\")\n",
    "sqlDf = spark.sql(\"select * from userops where user='user1' and operation='0001'\")"
   ]
  },
  {
   "cell_type": "code",
   "execution_count": null,
   "metadata": {},
   "outputs": [],
   "source": [
    "display(sqlDf.limit(5).toPandas().head())"
   ]
  },
  {
   "cell_type": "code",
   "execution_count": null,
   "metadata": {},
   "outputs": [],
   "source": [
    "sqlDf2 = spark.sql(\"select user,operation, count (eventid) as events from userops \\\n",
    "                    where idxUserId != 'User1' group by user, operation \\\n",
    "                    order by events desc\")\n",
    "display(sqlDf2.toPandas())"
   ]
  }
 ],
 "metadata": {
  "kernelspec": {
   "display_name": "Python 3",
   "language": "python",
   "name": "python3"
  },
  "language_info": {
   "codemirror_mode": {
    "name": "ipython",
    "version": 3
   },
   "file_extension": ".py",
   "mimetype": "text/x-python",
   "name": "python",
   "nbconvert_exporter": "python",
   "pygments_lexer": "ipython3",
   "version": "3.7.4"
  }
 },
 "nbformat": 4,
 "nbformat_minor": 2
}
