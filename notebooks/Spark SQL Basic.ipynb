{
 "cells": [
  {
   "cell_type": "markdown",
   "metadata": {},
   "source": [
    "# Basic Spark SQL Usage\n",
    "\n",
    "### Example of using Spark SQL with Stroom DataFrame"
   ]
  },
  {
   "cell_type": "markdown",
   "metadata": {},
   "source": [
    "#### Prerequisites\n",
    "This notebook is designed to work with a `stroom-full-test` Stroom stack intalled on `localhost`.\n",
    "\n",
    "You must set the environmental variable `STROOM_API_KEY` to the API token associated with a suitably privileged Stroom user account before starting the Jupyter notebook server process.\n",
    "\n",
    "#### Java 8\n",
    "This notebook must be run from `pyspark` running in a Java 8 environment.  Using other versions of Java will result in failure to execute, potentially `ClassNotFoundError: HiveConf`\n",
    "\n",
    "#### Setup\n",
    "Import standard utility classes/functions, including JSON handling XSLT."
   ]
  },
  {
   "cell_type": "code",
   "execution_count": 1,
   "metadata": {},
   "outputs": [],
   "source": [
    "from pyspark.sql.types import *\n",
    "from pyspark.sql.functions import from_json, col\n",
    "from IPython.display import display\n",
    "from pyspark.sql import SparkSession"
   ]
  },
  {
   "cell_type": "markdown",
   "metadata": {},
   "source": [
    "#### Create a schema using Extraction Pipeline"
   ]
  },
  {
   "cell_type": "code",
   "execution_count": 2,
   "metadata": {},
   "outputs": [],
   "source": [
    "mySchema = StructType([StructField(\"user\", StringType(), True, \n",
    "                                   metadata={\"get\": \"UserId\"}), \n",
    "                       StructField(\"type\", StringType(), True, \n",
    "                                   metadata={\"get\": \"Generator\"}),\n",
    "                       StructField(\"streamid\", StringType(), False,\n",
    "                                metadata={\"get\": \"StreamId\"}),\n",
    "                       StructField(\"eventid\", StringType(), False,\n",
    "                                metadata={\"get\": \"EventId\"}),])"
   ]
  },
  {
   "cell_type": "code",
   "execution_count": 3,
   "metadata": {},
   "outputs": [],
   "source": [
    "stroomDf = spark.read.format('stroom.spark.datasource.StroomDataSource').load(\n",
    "        token=os.environ['STROOM_API_KEY'],host='localhost',protocol='http',\n",
    "        uri='api/stroom-index/v2',\n",
    "        index='57a35b9a-083c-4a93-a813-fc3ddfe1ff44',pipeline='e5ecdf93-d433-45ac-b14a-1f77f16ae4f7',\n",
    "        schema=mySchema).select(['streamid', 'eventid', 'user', 'type'])"
   ]
  },
  {
   "cell_type": "code",
   "execution_count": 4,
   "metadata": {},
   "outputs": [
    {
     "data": {
      "text/html": [
       "<div>\n",
       "<style scoped>\n",
       "    .dataframe tbody tr th:only-of-type {\n",
       "        vertical-align: middle;\n",
       "    }\n",
       "\n",
       "    .dataframe tbody tr th {\n",
       "        vertical-align: top;\n",
       "    }\n",
       "\n",
       "    .dataframe thead th {\n",
       "        text-align: right;\n",
       "    }\n",
       "</style>\n",
       "<table border=\"1\" class=\"dataframe\">\n",
       "  <thead>\n",
       "    <tr style=\"text-align: right;\">\n",
       "      <th></th>\n",
       "      <th>streamid</th>\n",
       "      <th>eventid</th>\n",
       "      <th>user</th>\n",
       "      <th>type</th>\n",
       "    </tr>\n",
       "  </thead>\n",
       "  <tbody>\n",
       "    <tr>\n",
       "      <th>0</th>\n",
       "      <td>71</td>\n",
       "      <td>1</td>\n",
       "      <td></td>\n",
       "      <td>Stroom NGINX</td>\n",
       "    </tr>\n",
       "    <tr>\n",
       "      <th>1</th>\n",
       "      <td>57</td>\n",
       "      <td>3</td>\n",
       "      <td>CN=A Test Client (testuser),O=Test Organizatio...</td>\n",
       "      <td>Stroom NGINX</td>\n",
       "    </tr>\n",
       "    <tr>\n",
       "      <th>2</th>\n",
       "      <td>57</td>\n",
       "      <td>4</td>\n",
       "      <td>CN=A Test Client (testuser),O=Test Organizatio...</td>\n",
       "      <td>Stroom NGINX</td>\n",
       "    </tr>\n",
       "    <tr>\n",
       "      <th>3</th>\n",
       "      <td>57</td>\n",
       "      <td>5</td>\n",
       "      <td>CN=A Test Client (testuser),O=Test Organizatio...</td>\n",
       "      <td>Stroom NGINX</td>\n",
       "    </tr>\n",
       "    <tr>\n",
       "      <th>4</th>\n",
       "      <td>57</td>\n",
       "      <td>6</td>\n",
       "      <td>CN=A Test Client (testuser),O=Test Organizatio...</td>\n",
       "      <td>Stroom NGINX</td>\n",
       "    </tr>\n",
       "  </tbody>\n",
       "</table>\n",
       "</div>"
      ],
      "text/plain": [
       "  streamid eventid                                               user  \\\n",
       "0       71       1                                                      \n",
       "1       57       3  CN=A Test Client (testuser),O=Test Organizatio...   \n",
       "2       57       4  CN=A Test Client (testuser),O=Test Organizatio...   \n",
       "3       57       5  CN=A Test Client (testuser),O=Test Organizatio...   \n",
       "4       57       6  CN=A Test Client (testuser),O=Test Organizatio...   \n",
       "\n",
       "           type  \n",
       "0  Stroom NGINX  \n",
       "1  Stroom NGINX  \n",
       "2  Stroom NGINX  \n",
       "3  Stroom NGINX  \n",
       "4  Stroom NGINX  "
      ]
     },
     "metadata": {},
     "output_type": "display_data"
    }
   ],
   "source": [
    "display(stroomDf.limit(5).toPandas().head())"
   ]
  },
  {
   "cell_type": "markdown",
   "metadata": {},
   "source": [
    "#### Using Spark SQL\n",
    "\n",
    "In order to start actually writing SQL queries, it is necessary to create a temporary view onto the \n",
    "Stroom DataFrame created above.\n",
    "\n",
    "Results are returned as DataFrames themselves, making further operations possible."
   ]
  },
  {
   "cell_type": "code",
   "execution_count": 12,
   "metadata": {},
   "outputs": [],
   "source": [
    "stroomDf.createOrReplaceTempView(\"userops\")\n",
    "sqlDf = spark.sql(\"select * from userops where user='admin' and type='StroomEventLoggingService'\")"
   ]
  },
  {
   "cell_type": "code",
   "execution_count": 13,
   "metadata": {},
   "outputs": [
    {
     "data": {
      "text/html": [
       "<div>\n",
       "<style scoped>\n",
       "    .dataframe tbody tr th:only-of-type {\n",
       "        vertical-align: middle;\n",
       "    }\n",
       "\n",
       "    .dataframe tbody tr th {\n",
       "        vertical-align: top;\n",
       "    }\n",
       "\n",
       "    .dataframe thead th {\n",
       "        text-align: right;\n",
       "    }\n",
       "</style>\n",
       "<table border=\"1\" class=\"dataframe\">\n",
       "  <thead>\n",
       "    <tr style=\"text-align: right;\">\n",
       "      <th></th>\n",
       "      <th>streamid</th>\n",
       "      <th>eventid</th>\n",
       "      <th>user</th>\n",
       "      <th>type</th>\n",
       "    </tr>\n",
       "  </thead>\n",
       "  <tbody>\n",
       "    <tr>\n",
       "      <th>0</th>\n",
       "      <td>85</td>\n",
       "      <td>3</td>\n",
       "      <td>admin</td>\n",
       "      <td>StroomEventLoggingService</td>\n",
       "    </tr>\n",
       "    <tr>\n",
       "      <th>1</th>\n",
       "      <td>86</td>\n",
       "      <td>1</td>\n",
       "      <td>admin</td>\n",
       "      <td>StroomEventLoggingService</td>\n",
       "    </tr>\n",
       "    <tr>\n",
       "      <th>2</th>\n",
       "      <td>86</td>\n",
       "      <td>2</td>\n",
       "      <td>admin</td>\n",
       "      <td>StroomEventLoggingService</td>\n",
       "    </tr>\n",
       "    <tr>\n",
       "      <th>3</th>\n",
       "      <td>86</td>\n",
       "      <td>3</td>\n",
       "      <td>admin</td>\n",
       "      <td>StroomEventLoggingService</td>\n",
       "    </tr>\n",
       "    <tr>\n",
       "      <th>4</th>\n",
       "      <td>86</td>\n",
       "      <td>4</td>\n",
       "      <td>admin</td>\n",
       "      <td>StroomEventLoggingService</td>\n",
       "    </tr>\n",
       "  </tbody>\n",
       "</table>\n",
       "</div>"
      ],
      "text/plain": [
       "  streamid eventid   user                       type\n",
       "0       85       3  admin  StroomEventLoggingService\n",
       "1       86       1  admin  StroomEventLoggingService\n",
       "2       86       2  admin  StroomEventLoggingService\n",
       "3       86       3  admin  StroomEventLoggingService\n",
       "4       86       4  admin  StroomEventLoggingService"
      ]
     },
     "metadata": {},
     "output_type": "display_data"
    }
   ],
   "source": [
    "display(sqlDf.limit(5).toPandas().head())"
   ]
  },
  {
   "cell_type": "code",
   "execution_count": 14,
   "metadata": {},
   "outputs": [
    {
     "data": {
      "text/html": [
       "<div>\n",
       "<style scoped>\n",
       "    .dataframe tbody tr th:only-of-type {\n",
       "        vertical-align: middle;\n",
       "    }\n",
       "\n",
       "    .dataframe tbody tr th {\n",
       "        vertical-align: top;\n",
       "    }\n",
       "\n",
       "    .dataframe thead th {\n",
       "        text-align: right;\n",
       "    }\n",
       "</style>\n",
       "<table border=\"1\" class=\"dataframe\">\n",
       "  <thead>\n",
       "    <tr style=\"text-align: right;\">\n",
       "      <th></th>\n",
       "      <th>user</th>\n",
       "      <th>type</th>\n",
       "      <th>events</th>\n",
       "    </tr>\n",
       "  </thead>\n",
       "  <tbody>\n",
       "    <tr>\n",
       "      <th>0</th>\n",
       "      <td></td>\n",
       "      <td>Apache HTTPD</td>\n",
       "      <td>2982</td>\n",
       "    </tr>\n",
       "    <tr>\n",
       "      <th>1</th>\n",
       "      <td>CN=A Test Client (testuser),O=Test Organizatio...</td>\n",
       "      <td>Stroom NGINX</td>\n",
       "      <td>1660</td>\n",
       "    </tr>\n",
       "    <tr>\n",
       "      <th>2</th>\n",
       "      <td>admin</td>\n",
       "      <td>StroomEventLoggingService</td>\n",
       "      <td>832</td>\n",
       "    </tr>\n",
       "    <tr>\n",
       "      <th>3</th>\n",
       "      <td></td>\n",
       "      <td>Stroom NGINX</td>\n",
       "      <td>799</td>\n",
       "    </tr>\n",
       "    <tr>\n",
       "      <th>4</th>\n",
       "      <td>INTERNAL_PROCESSING_USER</td>\n",
       "      <td>StroomEventLoggingService</td>\n",
       "      <td>10</td>\n",
       "    </tr>\n",
       "  </tbody>\n",
       "</table>\n",
       "</div>"
      ],
      "text/plain": [
       "                                                user  \\\n",
       "0                                                      \n",
       "1  CN=A Test Client (testuser),O=Test Organizatio...   \n",
       "2                                              admin   \n",
       "3                                                      \n",
       "4                           INTERNAL_PROCESSING_USER   \n",
       "\n",
       "                        type  events  \n",
       "0               Apache HTTPD    2982  \n",
       "1               Stroom NGINX    1660  \n",
       "2  StroomEventLoggingService     832  \n",
       "3               Stroom NGINX     799  \n",
       "4  StroomEventLoggingService      10  "
      ]
     },
     "metadata": {},
     "output_type": "display_data"
    }
   ],
   "source": [
    "sqlDf2 = spark.sql(\"select user,type, count (streamid, eventid) as events from userops \\\n",
    "                    where user != 'user1' group by user, type \\\n",
    "                    order by events desc\")\n",
    "display(sqlDf2.toPandas())"
   ]
  },
  {
   "cell_type": "code",
   "execution_count": null,
   "metadata": {},
   "outputs": [],
   "source": []
  }
 ],
 "metadata": {
  "kernelspec": {
   "display_name": "Python 3",
   "language": "python",
   "name": "python3"
  },
  "language_info": {
   "codemirror_mode": {
    "name": "ipython",
    "version": 3
   },
   "file_extension": ".py",
   "mimetype": "text/x-python",
   "name": "python",
   "nbconvert_exporter": "python",
   "pygments_lexer": "ipython3",
   "version": "3.7.10"
  }
 },
 "nbformat": 4,
 "nbformat_minor": 2
}
