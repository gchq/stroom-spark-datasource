{
 "cells": [
  {
   "cell_type": "markdown",
   "metadata": {},
   "source": [
    "# Basic Spark SQL Usage\n",
    "\n",
    "### Example of using Spark SQL with Stroom DataFrame"
   ]
  },
  {
   "cell_type": "markdown",
   "metadata": {},
   "source": [
    "#### Prerequisites\n",
    "This notebook is designed to work with a `stroom-full-test` Stroom stack intalled on `localhost`.\n",
    "\n",
    "You must set the environmental variable `STROOM_API_KEY` to the API token associated with a suitably privileged Stroom user account before starting the Jupyter notebook server process.\n",
    "\n",
    "#### Use Java 8\n",
    "It is necessary to start `pyspark` from a Java 8 shell.  Failure to do so will result in errors, including quite mysterious ones relating to missing Hive classes.\n",
    "\n",
    "#### Setup\n",
    "Import standard utility classes/functions, including JSON handling XSLT."
   ]
  },
  {
   "cell_type": "code",
   "execution_count": 1,
   "metadata": {},
   "outputs": [],
   "source": [
    "from pyspark.sql.types import *\n",
    "from pyspark.sql.functions import from_json, col\n",
    "from IPython.display import display\n",
    "from pyspark.sql import SparkSession"
   ]
  },
  {
   "cell_type": "markdown",
   "metadata": {},
   "source": [
    "#### Create a schema using XPaths\n",
    "\n",
    "N.B. XPath @* is used to extract both StreamId and EventId from the Event, and placed into a single field.\n",
    "This field has unique values, handy for working with SQL."
   ]
  },
  {
   "cell_type": "code",
   "execution_count": 2,
   "metadata": {},
   "outputs": [],
   "source": [
    "mySchema = StructType([StructField(\"user\", StringType(), True, \n",
    "                                   metadata={\"get\": \"EventSource/User/Id\"}), \n",
    "                       StructField(\"operation\", StringType(), True, \n",
    "                                   metadata={\"get\": \"EventDetail/TypeId\"}),\n",
    "                     StructField(\"eventid\", StringType(), False,\n",
    "                                metadata={\"get\": \"@*\"})])"
   ]
  },
  {
   "cell_type": "code",
   "execution_count": 3,
   "metadata": {},
   "outputs": [],
   "source": [
    "stroomDf = spark.read.format('stroom.spark.datasource.StroomDataSource').load(\n",
    "        token=os.environ['STROOM_API_KEY'],host='localhost',protocol='http',\n",
    "        uri='api/stroom-index/v2',\n",
    "        index='57a35b9a-083c-4a93-a813-fc3ddfe1ff44', pipeline='26ed1000-255e-4182-b69b-00266be891ee',\n",
    "        schema=mySchema).select('eventid','user','operation','idxUserId')"
   ]
  },
  {
   "cell_type": "code",
   "execution_count": 4,
   "metadata": {},
   "outputs": [
    {
     "data": {
      "text/html": [
       "<div>\n",
       "<style scoped>\n",
       "    .dataframe tbody tr th:only-of-type {\n",
       "        vertical-align: middle;\n",
       "    }\n",
       "\n",
       "    .dataframe tbody tr th {\n",
       "        vertical-align: top;\n",
       "    }\n",
       "\n",
       "    .dataframe thead th {\n",
       "        text-align: right;\n",
       "    }\n",
       "</style>\n",
       "<table border=\"1\" class=\"dataframe\">\n",
       "  <thead>\n",
       "    <tr style=\"text-align: right;\">\n",
       "      <th></th>\n",
       "      <th>eventid</th>\n",
       "      <th>user</th>\n",
       "      <th>operation</th>\n",
       "      <th>idxUserId</th>\n",
       "    </tr>\n",
       "  </thead>\n",
       "  <tbody>\n",
       "    <tr>\n",
       "      <th>0</th>\n",
       "      <td>71,1</td>\n",
       "      <td></td>\n",
       "      <td>GET</td>\n",
       "      <td></td>\n",
       "    </tr>\n",
       "    <tr>\n",
       "      <th>1</th>\n",
       "      <td>57,2</td>\n",
       "      <td>CN=A Test Client (testuser),O=Test Organizatio...</td>\n",
       "      <td>POST</td>\n",
       "      <td></td>\n",
       "    </tr>\n",
       "    <tr>\n",
       "      <th>2</th>\n",
       "      <td>57,3</td>\n",
       "      <td>CN=A Test Client (testuser),O=Test Organizatio...</td>\n",
       "      <td>POST</td>\n",
       "      <td></td>\n",
       "    </tr>\n",
       "    <tr>\n",
       "      <th>3</th>\n",
       "      <td>57,4</td>\n",
       "      <td>CN=A Test Client (testuser),O=Test Organizatio...</td>\n",
       "      <td>POST</td>\n",
       "      <td></td>\n",
       "    </tr>\n",
       "    <tr>\n",
       "      <th>4</th>\n",
       "      <td>57,5</td>\n",
       "      <td>CN=A Test Client (testuser),O=Test Organizatio...</td>\n",
       "      <td>POST</td>\n",
       "      <td></td>\n",
       "    </tr>\n",
       "  </tbody>\n",
       "</table>\n",
       "</div>"
      ],
      "text/plain": [
       "  eventid                                               user operation  \\\n",
       "0    71,1                                                          GET   \n",
       "1    57,2  CN=A Test Client (testuser),O=Test Organizatio...      POST   \n",
       "2    57,3  CN=A Test Client (testuser),O=Test Organizatio...      POST   \n",
       "3    57,4  CN=A Test Client (testuser),O=Test Organizatio...      POST   \n",
       "4    57,5  CN=A Test Client (testuser),O=Test Organizatio...      POST   \n",
       "\n",
       "  idxUserId  \n",
       "0            \n",
       "1            \n",
       "2            \n",
       "3            \n",
       "4            "
      ]
     },
     "metadata": {},
     "output_type": "display_data"
    }
   ],
   "source": [
    "display(stroomDf.limit(5).toPandas().head())"
   ]
  },
  {
   "cell_type": "markdown",
   "metadata": {},
   "source": [
    "#### Using Spark SQL\n",
    "\n",
    "In order to start actually writing SQL queries, it is necessary to create a temporary view onto the \n",
    "Stroom DataFrame created above.\n",
    "\n",
    "Results are returned as DataFrames themselves, making further operations possible."
   ]
  },
  {
   "cell_type": "code",
   "execution_count": 14,
   "metadata": {},
   "outputs": [],
   "source": [
    "stroomDf.createOrReplaceTempView(\"userops\")\n",
    "sqlDf = spark.sql(\"select * from userops where user = 'admin' and operation='StroomIndexQueryResourceImpl.search'\")"
   ]
  },
  {
   "cell_type": "code",
   "execution_count": 15,
   "metadata": {},
   "outputs": [
    {
     "data": {
      "text/html": [
       "<div>\n",
       "<style scoped>\n",
       "    .dataframe tbody tr th:only-of-type {\n",
       "        vertical-align: middle;\n",
       "    }\n",
       "\n",
       "    .dataframe tbody tr th {\n",
       "        vertical-align: top;\n",
       "    }\n",
       "\n",
       "    .dataframe thead th {\n",
       "        text-align: right;\n",
       "    }\n",
       "</style>\n",
       "<table border=\"1\" class=\"dataframe\">\n",
       "  <thead>\n",
       "    <tr style=\"text-align: right;\">\n",
       "      <th></th>\n",
       "      <th>eventid</th>\n",
       "      <th>user</th>\n",
       "      <th>operation</th>\n",
       "      <th>idxUserId</th>\n",
       "    </tr>\n",
       "  </thead>\n",
       "  <tbody>\n",
       "    <tr>\n",
       "      <th>0</th>\n",
       "      <td>176,6</td>\n",
       "      <td>admin</td>\n",
       "      <td>StroomIndexQueryResourceImpl.search</td>\n",
       "      <td></td>\n",
       "    </tr>\n",
       "    <tr>\n",
       "      <th>1</th>\n",
       "      <td>176,7</td>\n",
       "      <td>admin</td>\n",
       "      <td>StroomIndexQueryResourceImpl.search</td>\n",
       "      <td></td>\n",
       "    </tr>\n",
       "    <tr>\n",
       "      <th>2</th>\n",
       "      <td>176,8</td>\n",
       "      <td>admin</td>\n",
       "      <td>StroomIndexQueryResourceImpl.search</td>\n",
       "      <td></td>\n",
       "    </tr>\n",
       "    <tr>\n",
       "      <th>3</th>\n",
       "      <td>176,9</td>\n",
       "      <td>admin</td>\n",
       "      <td>StroomIndexQueryResourceImpl.search</td>\n",
       "      <td></td>\n",
       "    </tr>\n",
       "    <tr>\n",
       "      <th>4</th>\n",
       "      <td>176,10</td>\n",
       "      <td>admin</td>\n",
       "      <td>StroomIndexQueryResourceImpl.search</td>\n",
       "      <td></td>\n",
       "    </tr>\n",
       "  </tbody>\n",
       "</table>\n",
       "</div>"
      ],
      "text/plain": [
       "  eventid   user                            operation idxUserId\n",
       "0   176,6  admin  StroomIndexQueryResourceImpl.search          \n",
       "1   176,7  admin  StroomIndexQueryResourceImpl.search          \n",
       "2   176,8  admin  StroomIndexQueryResourceImpl.search          \n",
       "3   176,9  admin  StroomIndexQueryResourceImpl.search          \n",
       "4  176,10  admin  StroomIndexQueryResourceImpl.search          "
      ]
     },
     "metadata": {},
     "output_type": "display_data"
    }
   ],
   "source": [
    "display(sqlDf.limit(5).toPandas().head())"
   ]
  },
  {
   "cell_type": "code",
   "execution_count": 16,
   "metadata": {},
   "outputs": [
    {
     "data": {
      "text/html": [
       "<div>\n",
       "<style scoped>\n",
       "    .dataframe tbody tr th:only-of-type {\n",
       "        vertical-align: middle;\n",
       "    }\n",
       "\n",
       "    .dataframe tbody tr th {\n",
       "        vertical-align: top;\n",
       "    }\n",
       "\n",
       "    .dataframe thead th {\n",
       "        text-align: right;\n",
       "    }\n",
       "</style>\n",
       "<table border=\"1\" class=\"dataframe\">\n",
       "  <thead>\n",
       "    <tr style=\"text-align: right;\">\n",
       "      <th></th>\n",
       "      <th>user</th>\n",
       "      <th>operation</th>\n",
       "      <th>events</th>\n",
       "    </tr>\n",
       "  </thead>\n",
       "  <tbody>\n",
       "    <tr>\n",
       "      <th>0</th>\n",
       "      <td></td>\n",
       "      <td>POST</td>\n",
       "      <td>2392</td>\n",
       "    </tr>\n",
       "    <tr>\n",
       "      <th>1</th>\n",
       "      <td>CN=A Test Client (testuser),O=Test Organizatio...</td>\n",
       "      <td>POST</td>\n",
       "      <td>1628</td>\n",
       "    </tr>\n",
       "    <tr>\n",
       "      <th>2</th>\n",
       "      <td></td>\n",
       "      <td>GET</td>\n",
       "      <td>723</td>\n",
       "    </tr>\n",
       "    <tr>\n",
       "      <th>3</th>\n",
       "      <td></td>\n",
       "      <td>HEAD</td>\n",
       "      <td>467</td>\n",
       "    </tr>\n",
       "    <tr>\n",
       "      <th>4</th>\n",
       "      <td>INTERNAL_PROCESSING_USER</td>\n",
       "      <td>getCerts</td>\n",
       "      <td>3</td>\n",
       "    </tr>\n",
       "    <tr>\n",
       "      <th>5</th>\n",
       "      <td>INTERNAL_PROCESSING_USER</td>\n",
       "      <td>GlobalConfigResourceImpl.fetchUiConfig</td>\n",
       "      <td>3</td>\n",
       "    </tr>\n",
       "    <tr>\n",
       "      <th>6</th>\n",
       "      <td>INTERNAL_PROCESSING_USER</td>\n",
       "      <td>OpenIdResourceImpl.token</td>\n",
       "      <td>2</td>\n",
       "    </tr>\n",
       "    <tr>\n",
       "      <th>7</th>\n",
       "      <td>INTERNAL_PROCESSING_USER</td>\n",
       "      <td>AuthenticationResourceImpl.fetchPasswordPolicy</td>\n",
       "      <td>2</td>\n",
       "    </tr>\n",
       "  </tbody>\n",
       "</table>\n",
       "</div>"
      ],
      "text/plain": [
       "                                                user  \\\n",
       "0                                                      \n",
       "1  CN=A Test Client (testuser),O=Test Organizatio...   \n",
       "2                                                      \n",
       "3                                                      \n",
       "4                           INTERNAL_PROCESSING_USER   \n",
       "5                           INTERNAL_PROCESSING_USER   \n",
       "6                           INTERNAL_PROCESSING_USER   \n",
       "7                           INTERNAL_PROCESSING_USER   \n",
       "\n",
       "                                        operation  events  \n",
       "0                                            POST    2392  \n",
       "1                                            POST    1628  \n",
       "2                                             GET     723  \n",
       "3                                            HEAD     467  \n",
       "4                                        getCerts       3  \n",
       "5          GlobalConfigResourceImpl.fetchUiConfig       3  \n",
       "6                        OpenIdResourceImpl.token       2  \n",
       "7  AuthenticationResourceImpl.fetchPasswordPolicy       2  "
      ]
     },
     "metadata": {},
     "output_type": "display_data"
    }
   ],
   "source": [
    "sqlDf2 = spark.sql(\"select user,operation, count (eventid) as events from userops \\\n",
    "                    where idxUserId != 'admin' group by user, operation \\\n",
    "                    order by events desc\")\n",
    "display(sqlDf2.toPandas())"
   ]
  },
  {
   "cell_type": "code",
   "execution_count": null,
   "metadata": {},
   "outputs": [],
   "source": []
  }
 ],
 "metadata": {
  "kernelspec": {
   "display_name": "Python 3",
   "language": "python",
   "name": "python3"
  },
  "language_info": {
   "codemirror_mode": {
    "name": "ipython",
    "version": 3
   },
   "file_extension": ".py",
   "mimetype": "text/x-python",
   "name": "python",
   "nbconvert_exporter": "python",
   "pygments_lexer": "ipython3",
   "version": "3.7.10"
  }
 },
 "nbformat": 4,
 "nbformat_minor": 2
}
